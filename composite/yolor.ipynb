{
 "cells": [
  {
   "cell_type": "code",
   "execution_count": 11,
   "id": "d4c6557f",
   "metadata": {},
   "outputs": [
    {
     "name": "stdout",
     "output_type": "stream",
     "text": [
      "Namespace(agnostic_nms=False, augment=False, cfg='yolor_data/yolor_p6.cfg', classes=None, conf_thres=0.25, device='0', img_size=320, iou_thres=0.5, names='yolor_data/data.names', output='inference/output', save_txt=False, source='inference/images', update=False, view_img=False, weights=['yolor_data/best.pt'])\n",
      "image 1/23 C:\\Users\\mashi\\Desktop\\composite\\inference\\images\\1.jpg: torch.Size([1, 3, 256, 320])\n",
      "256x320 1 c1s, Done. (0.040s)\n",
      "image 2/23 C:\\Users\\mashi\\Desktop\\composite\\inference\\images\\10.jpg: torch.Size([1, 3, 256, 320])\n",
      "256x320 1 c1s, Done. (0.027s)\n",
      "image 3/23 C:\\Users\\mashi\\Desktop\\composite\\inference\\images\\12.jpg: torch.Size([1, 3, 192, 320])\n",
      "192x320 1 c1s, Done. (0.039s)\n",
      "image 4/23 C:\\Users\\mashi\\Desktop\\composite\\inference\\images\\13.jpg: torch.Size([1, 3, 256, 320])\n",
      "256x320 1 c1s, Done. (0.027s)\n",
      "image 5/23 C:\\Users\\mashi\\Desktop\\composite\\inference\\images\\14.jpg: torch.Size([1, 3, 320, 320])\n",
      "320x320 1 c1s, Done. (0.027s)\n",
      "image 6/23 C:\\Users\\mashi\\Desktop\\composite\\inference\\images\\15.jpg: torch.Size([1, 3, 256, 320])\n",
      "256x320 1 c1s, Done. (0.028s)\n",
      "image 7/23 C:\\Users\\mashi\\Desktop\\composite\\inference\\images\\16.jpg: torch.Size([1, 3, 256, 320])\n",
      "256x320 1 c1s, Done. (0.027s)\n",
      "image 8/23 C:\\Users\\mashi\\Desktop\\composite\\inference\\images\\17.jpg: torch.Size([1, 3, 256, 320])\n",
      "256x320 2 c1s, Done. (0.026s)\n",
      "image 9/23 C:\\Users\\mashi\\Desktop\\composite\\inference\\images\\18.jpg: torch.Size([1, 3, 192, 320])\n",
      "192x320 1 c1s, Done. (0.027s)\n",
      "image 10/23 C:\\Users\\mashi\\Desktop\\composite\\inference\\images\\19.jpg: torch.Size([1, 3, 128, 320])\n",
      "128x320 1 c1s, Done. (0.040s)\n",
      "image 11/23 C:\\Users\\mashi\\Desktop\\composite\\inference\\images\\2.jpg: torch.Size([1, 3, 256, 320])\n",
      "256x320 1 c1s, Done. (0.026s)\n",
      "image 12/23 C:\\Users\\mashi\\Desktop\\composite\\inference\\images\\20.jpg: torch.Size([1, 3, 256, 320])\n",
      "256x320 1 c1s, Done. (0.026s)\n",
      "image 13/23 C:\\Users\\mashi\\Desktop\\composite\\inference\\images\\21.jpg: torch.Size([1, 3, 256, 320])\n",
      "256x320 1 c4s, Done. (0.027s)\n",
      "image 14/23 C:\\Users\\mashi\\Desktop\\composite\\inference\\images\\22.jpg: torch.Size([1, 3, 256, 320])\n",
      "256x320 1 c4s, Done. (0.027s)\n",
      "image 15/23 C:\\Users\\mashi\\Desktop\\composite\\inference\\images\\23.jpg: torch.Size([1, 3, 128, 320])\n",
      "128x320 1 c4s, Done. (0.029s)\n",
      "image 16/23 C:\\Users\\mashi\\Desktop\\composite\\inference\\images\\3.jpg: torch.Size([1, 3, 256, 320])\n",
      "256x320 1 c1s, Done. (0.029s)\n",
      "image 17/23 C:\\Users\\mashi\\Desktop\\composite\\inference\\images\\35294.jpg: torch.Size([1, 3, 256, 320])\n",
      "256x320 1 c9s, 6 wheels, Done. (0.028s)\n",
      "image 18/23 C:\\Users\\mashi\\Desktop\\composite\\inference\\images\\35717.jpg: torch.Size([1, 3, 256, 320])\n",
      "256x320 1 c9s, 6 wheels, Done. (0.028s)\n",
      "image 19/23 C:\\Users\\mashi\\Desktop\\composite\\inference\\images\\4.jpg: torch.Size([1, 3, 256, 320])\n",
      "256x320 1 c1s, Done. (0.028s)\n",
      "image 20/23 C:\\Users\\mashi\\Desktop\\composite\\inference\\images\\5.jpg: torch.Size([1, 3, 256, 320])\n",
      "256x320 1 c1s, Done. (0.028s)\n",
      "image 21/23 C:\\Users\\mashi\\Desktop\\composite\\inference\\images\\6.jpg: torch.Size([1, 3, 320, 320])\n",
      "320x320 1 c1s, Done. (0.028s)\n",
      "image 22/23 C:\\Users\\mashi\\Desktop\\composite\\inference\\images\\7.jpg: torch.Size([1, 3, 192, 320])\n",
      "192x320 1 c1s, Done. (0.028s)\n",
      "image 23/23 C:\\Users\\mashi\\Desktop\\composite\\inference\\images\\9.jpg: torch.Size([1, 3, 256, 320])\n",
      "256x320 1 c1s, Done. (0.027s)\n",
      "Results saved to inference\\output\n",
      "Done. (1.984s)\n"
     ]
    },
    {
     "name": "stderr",
     "output_type": "stream",
     "text": [
      "C:\\Users\\mashi\\anaconda3\\envs\\truck\\lib\\site-packages\\torch\\functional.py:445: UserWarning: torch.meshgrid: in an upcoming release, it will be required to pass the indexing argument. (Triggered internally at  ..\\aten\\src\\ATen\\native\\TensorShape.cpp:2157.)\n",
      "  return _VF.meshgrid(tensors, **kwargs)  # type: ignore[attr-defined]\n"
     ]
    }
   ],
   "source": [
    "!python detect.py --source inference/images --cfg yolor_data/yolor_p6.cfg --weights yolor_data/best.pt --names yolor_data/data.names --conf 0.25 --img-size 320 --device 0"
   ]
  },
  {
   "cell_type": "code",
   "execution_count": 1,
   "id": "95d7a362",
   "metadata": {},
   "outputs": [
    {
     "name": "stdout",
     "output_type": "stream",
     "text": [
      "1.10.2\n"
     ]
    }
   ],
   "source": [
    "import torch\n",
    "print(torch.__version__)"
   ]
  },
  {
   "cell_type": "code",
   "execution_count": null,
   "id": "11b9acd4",
   "metadata": {},
   "outputs": [],
   "source": []
  }
 ],
 "metadata": {
  "kernelspec": {
   "display_name": "Python 3 (ipykernel)",
   "language": "python",
   "name": "python3"
  },
  "language_info": {
   "codemirror_mode": {
    "name": "ipython",
    "version": 3
   },
   "file_extension": ".py",
   "mimetype": "text/x-python",
   "name": "python",
   "nbconvert_exporter": "python",
   "pygments_lexer": "ipython3",
   "version": "3.7.11"
  }
 },
 "nbformat": 4,
 "nbformat_minor": 5
}
