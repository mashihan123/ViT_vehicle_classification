{
 "cells": [
  {
   "cell_type": "code",
   "execution_count": 25,
   "id": "6a76b509",
   "metadata": {
    "scrolled": true
   },
   "outputs": [],
   "source": [
    "import glob, os,random\n",
    "from sklearn.model_selection import train_test_split\n",
    "from PIL import Image\n",
    "from sklearn.metrics import confusion_matrix, accuracy_score, f1_score, precision_score, recall_score, classification_report, precision_recall_fscore_support\n",
    "import seaborn\n",
    "import matplotlib.pyplot as plt\n",
    "import numpy as np\n",
    "import pandas as pd\n",
    "\n",
    "import torch\n",
    "import torch.nn as nn\n",
    "from torch.utils.data import DataLoader, Dataset\n",
    "from torchvision import datasets, transforms\n",
    "import torch.optim as optim\n",
    "import torchvision\n",
    "from torchsummary import summary\n",
    "\n",
    "from tqdm import tqdm\n",
    "\n",
    "import vision_transformer as vits"
   ]
  },
  {
   "cell_type": "code",
   "execution_count": 26,
   "id": "f26abe4f",
   "metadata": {
    "scrolled": true
   },
   "outputs": [],
   "source": [
    "transformer = 'dino_vit_pretrained' # vit or linformer or sinkhorn or encoder or cait or cvt or cross_vit \n",
    "                                    # or tnt or t2t or swin or dino_vit_custom or dino_vit_pretrained or dino_vit_finetuned\n",
    "crop = True\n",
    "num_of_tire_to_block = 1\n",
    "freeze_encoder = False\n",
    "\n",
    "if crop:\n",
    "    data_dir = 'cropped'\n",
    "else:\n",
    "    data_dir = 'original'\n",
    "\n",
    "# transformer parameters\n",
    "img_size = 224\n",
    "patch_size = 32\n",
    "num_classes = 13\n",
    "dim = 1024\n",
    "depth = 12\n",
    "heads = 8\n",
    "mlp_dim = 2048\n",
    "dropout = 0.1\n",
    "emb_dropout = 0.1\n",
    "num_landmarks = 128\n",
    "\n",
    "# linformer parameters\n",
    "seq_len = int((img_size/patch_size)**2+1)\n",
    "k = 64\n",
    "\n",
    "# sinkhorn parameters\n",
    "bucket_size = int((img_size/patch_size)**2+1)\n",
    "\n",
    "# Training settings for sgd\n",
    "if transformer == 'tnt':\n",
    "    batch_size_train = 32\n",
    "    batch_size_test = 32\n",
    "else:\n",
    "    batch_size_train = 64\n",
    "    batch_size_test = 64\n",
    "if transformer == 'swin':\n",
    "    lr = 1e-3\n",
    "else:\n",
    "    lr = 0.003\n",
    "if transformer == 'dino_vit_custom' or 'dino_vit_pretrained' or 'dino_vit_finetuned':\n",
    "    epochs = 30\n",
    "else:\n",
    "    epochs = 50\n",
    "valid_ratio = 0.2\n",
    "gamma = 0.85\n",
    "seed = 2\n",
    "num_workers = 0\n",
    "device = 'cuda'\n",
    "# devices = [2,3]\n",
    "devices = [0,1]\n",
    "# devices = \"cuda:0\"\n",
    "\n",
    "optimizer = 'adam' # sgd or adam"
   ]
  },
  {
   "cell_type": "code",
   "execution_count": 27,
   "id": "e8e194a4",
   "metadata": {
    "scrolled": true
   },
   "outputs": [
    {
     "name": "stdout",
     "output_type": "stream",
     "text": [
      "Train Data: 6318\n",
      "Test Data: 1580\n"
     ]
    }
   ],
   "source": [
    "# create a list containing all image file names\n",
    "train_list = glob.glob(os.path.join('original','*.jpg'))\n",
    "labels=[]\n",
    "for root in train_list:\n",
    "    path = os.path.dirname(root)\n",
    "    name = root.split(\"/\")[-1].split(\".\")[0]\n",
    "    with open(os.path.join(''.join([name,'.txt'])), 'r') as f:\n",
    "        text = f.read()\n",
    "        label = int(text.split()[0])+1\n",
    "        labels.append(label)\n",
    "\n",
    "# split training set into training and valid.\n",
    "train_list, valid_list = train_test_split(train_list, \n",
    "                        test_size=valid_ratio,\n",
    "                        stratify=labels\n",
    "                       ,random_state=seed\n",
    "                                         )\n",
    "test_list = valid_list\n",
    "print(f\"Train Data: {len(train_list)}\")\n",
    "print(f\"Test Data: {len(valid_list)}\")"
   ]
  },
  {
   "cell_type": "code",
   "execution_count": 28,
   "id": "36afc03c",
   "metadata": {
    "scrolled": true
   },
   "outputs": [],
   "source": [
    "def seed_everything(seed):\n",
    "    random.seed(seed)\n",
    "    os.environ['PYTHONHASHSEED'] = str(seed)\n",
    "    np.random.seed(seed)\n",
    "    torch.manual_seed(seed)\n",
    "    torch.cuda.manual_seed(seed)\n",
    "    torch.cuda.manual_seed_all(seed)\n",
    "    torch.backends.cudnn.benchmark = False\n",
    "    torch.backends.cudnn.deterministic = True\n",
    "\n",
    "seed_everything(seed)\n",
    "\n",
    "def TransformerSelecter(transformer):\n",
    "    if transformer == 'linformer':\n",
    "        return linformer\n",
    "    elif transformer == 'sinkhorn':\n",
    "        return sinkhorn\n",
    "    elif transformer == 'encoder':\n",
    "        return encoder\n",
    "    else: return False\n",
    "\n",
    "class trucksDataset(Dataset):\n",
    "    def __init__(self, file_list, transform, img_resize, train_or_not):\n",
    "        self.file_list = file_list\n",
    "        self.transform = transform\n",
    "        self.resize = img_resize\n",
    "        self.train_or_not = train_or_not\n",
    "\n",
    "    def __len__(self):\n",
    "        self.filelength = len(self.file_list)\n",
    "        return self.filelength\n",
    "\n",
    "    def __getitem__(self, idx):\n",
    "        img_path = self.file_list[idx]\n",
    "        img = Image.open(img_path)\n",
    "        img_transformed = self.transform(img)\n",
    "        img_height = img_transformed.size(1)\n",
    "        img_width = img_transformed.size(2)\n",
    "        name = img_path.split(\".\")[0]\n",
    "        path = os.path.dirname(img_path)\n",
    "        img_name = name.split('\\\\')[-1]\n",
    "        img1 = img_transformed\n",
    "        if self.train_or_not == True:\n",
    "            if num_of_tire_to_block != 0:\n",
    "                with open(''.join(['all_images_label/', img_name,'.txt']), 'r') as g:\n",
    "                    text = g.read()\n",
    "                    lines = text.split('\\n')\n",
    "                    if len(lines)>2 and lines[0]!='':\n",
    "                        if num_of_tire_to_block >= len(lines)-2:\n",
    "                            for i in range(len(lines)-2):\n",
    "                                x = float(text.split()[(i+1)*5+1])*img_width\n",
    "                                y = float(text.split()[(i+1)*5+2])*img_height\n",
    "                                w = float(text.split()[(i+1)*5+3])*img_width\n",
    "                                h = float(text.split()[(i+1)*5+4])*img_height\n",
    "                                i = int(x-w/2)\n",
    "                                j = int(y-h/2)\n",
    "                                img_transformed = torchvision.transforms.functional.erase(img_transformed, i, j, int(h), int(w), 0)\n",
    "                        else:\n",
    "                            tire_idxes = random.sample(list(range(len(lines)-2)), k = num_of_tire_to_block)\n",
    "#                             print(img_name+'+'+str(len(lines)))\n",
    "                            for i in tire_idxes:\n",
    "    #                             print(img_name+'+'+str(len(lines)),tire_idxes)\n",
    "                                x = float(text.split()[(i+1)*5+1])*img_width\n",
    "                                y = float(text.split()[(i+1)*5+2])*img_height\n",
    "                                w = float(text.split()[(i+1)*5+3])*img_width\n",
    "                                h = float(text.split()[(i+1)*5+4])*img_height\n",
    "                                i = int(x-w/2)\n",
    "                                j = int(y-h/2)\n",
    "                                img_transformed = torchvision.transforms.functional.erase(img_transformed, i, j, int(h), int(w), 0)\n",
    "#         print(torch.equal(img1, img_transformed))\n",
    "        with open(''.join([name,'.txt']), 'r') as f:\n",
    "            text = f.read()\n",
    "            label = int(text.split()[0])\n",
    "        if crop:\n",
    "            x = float(text.split()[1])*img_width\n",
    "            y = float(text.split()[2])*img_height\n",
    "            w = int(float(text.split()[3])*img_width)\n",
    "            h = int(float(text.split()[4])*img_height)\n",
    "            y1 = int(y-h/2)\n",
    "            x1 = int(x-w/2)\n",
    "            img_transformed = torchvision.transforms.functional.crop(img_transformed, y1, x1, h, w)\n",
    "\n",
    "        img_transformed = self.resize(img_transformed)\n",
    "        return img_transformed, label\n",
    "\n",
    "\n",
    "def plot_confusion_matrix(data, labels, output_filename):\n",
    "    \"\"\"Plot confusion matrix using heatmap.\n",
    " \n",
    "    Args:\n",
    "        data (list of list): List of lists with confusion matrix data.\n",
    "        labels (list): Labels which will be plotted across x and y axis.\n",
    "        output_filename (str): Path to output file.\n",
    " \n",
    "    \"\"\"\n",
    "    global transformer\n",
    "    global data_dir\n",
    "    global img_size\n",
    "    global patch_size\n",
    "    global title\n",
    "    \n",
    "    seaborn.set(color_codes=True)\n",
    "    plt.figure(2, figsize=(9, 6))\n",
    "    \n",
    "#     title = 'Confusion Matrix: '+transformer + '+Detector (' + data_dir + ') ' + '#_of_patch=' + str(int(img_size/patch_size))\n",
    " \n",
    "    plt.title(title)\n",
    " \n",
    "    seaborn.set(font_scale=1)\n",
    "    ax = seaborn.heatmap(data, annot=True, fmt='d', cmap=\"YlGnBu\", cbar_kws={'label': 'Scale'})\n",
    " \n",
    "    ax.set_xticklabels(labels)\n",
    "    ax.set_yticklabels(labels)\n",
    " \n",
    "    ax.set(ylabel=\"True Label\", xlabel=\"Predicted Label\")\n",
    " \n",
    "    plt.savefig(output_filename, bbox_inches='tight', dpi=200)\n",
    "    plt.show()\n",
    "    plt.close()"
   ]
  },
  {
   "cell_type": "code",
   "execution_count": 29,
   "id": "b8a191df",
   "metadata": {
    "scrolled": true
   },
   "outputs": [
    {
     "name": "stdout",
     "output_type": "stream",
     "text": [
      "6318 99\n",
      "1580 25\n"
     ]
    }
   ],
   "source": [
    "transform = transforms.Compose(\n",
    "    [        transforms.ToTensor(),\n",
    "    ]\n",
    ")\n",
    "\n",
    "from torchvision import transforms\n",
    "img_resize = transforms.Resize((img_size, img_size))\n",
    "\n",
    "train_data = trucksDataset(train_list, transform=transform, img_resize=img_resize, train_or_not=True)\n",
    "valid_data = trucksDataset(valid_list, transform=transform, img_resize=img_resize, train_or_not=False)\n",
    "test_data = trucksDataset(test_list, transform=transform, img_resize=img_resize, train_or_not=False)\n",
    "classifier_data = trucksDataset(train_list, transform=transform, img_resize=img_resize, train_or_not=False)\n",
    "\n",
    "train_loader = DataLoader(dataset = train_data, batch_size=batch_size_train, shuffle=True, num_workers = num_workers)\n",
    "valid_loader = DataLoader(dataset = valid_data, batch_size=batch_size_test, shuffle=False, num_workers = num_workers)\n",
    "test_loader = DataLoader(dataset = test_data, batch_size=1, shuffle=False, num_workers = num_workers)\n",
    "classifier_loader = DataLoader(dataset = classifier_data, batch_size=1, shuffle=False, num_workers = num_workers)\n",
    "\n",
    "print(len(train_data), len(train_loader))\n",
    "print(len(valid_data), len(valid_loader))"
   ]
  },
  {
   "cell_type": "code",
   "execution_count": 30,
   "id": "e15d6f0b",
   "metadata": {
    "scrolled": true
   },
   "outputs": [],
   "source": [
    "vit = vits.__dict__['vit_small'](patch_size=16)\n",
    "model = vit.to(device)\n",
    "# loss function\n",
    "criterion = nn.CrossEntropyLoss()\n",
    "# optimizer\n",
    "if optimizer == 'sgd':\n",
    "    optimizer = optim.SGD(model.parameters(), lr=lr, momentum=0.9, nesterov=True)\n",
    "else:\n",
    "    if freeze_encoder:\n",
    "        optimizer = optim.Adam(filter(lambda p: p.requires_grad, model.parameters()), lr=lr)\n",
    "    else:\n",
    "        optimizer = optim.Adam(model.parameters(), lr=6e-5)\n",
    "# scheduler\n",
    "scheduler = optim.lr_scheduler.StepLR(optimizer, step_size=20, gamma=gamma)"
   ]
  },
  {
   "cell_type": "code",
   "execution_count": 31,
   "id": "29864448",
   "metadata": {
    "scrolled": true
   },
   "outputs": [],
   "source": [
    "# model.load_state_dict(torch.load('dino_deitsmall16_pretrain.pth', map_location=\"cpu\"), strict = False)\n",
    "if transformer == 'dino_vit_custom':\n",
    "    weight_pth = 'logs_cropped/checkpoint.pth'\n",
    "    epochs = 30\n",
    "elif transformer == 'dino_vit_pretrained' and crop == True:\n",
    "    weight_pth = 'dino_deitsmall16_pretrain_full_checkpoint.pth'\n",
    "    epochs = 15\n",
    "elif transformer == 'dino_vit_finetuned':\n",
    "    weight_pth = 'finetuned_logs_cropped/checkpoint.pth'\n",
    "    epochs = 30\n",
    "else: weight_pth = 'logs/checkpoint.pth' \n",
    "\n",
    "checkpoint = torch.load(weight_pth, map_location=\"cpu\")\n",
    "\n",
    "state_dict = checkpoint['teacher']\n",
    "# remove `module.` prefix\n",
    "state_dict = {k.replace(\"module.\", \"\"): v for k, v in state_dict.items()}\n",
    "# remove `backbone.` prefix induced by multicrop wrapper\n",
    "state_dict = {k.replace(\"backbone.\", \"\"): v for k, v in state_dict.items()}"
   ]
  },
  {
   "cell_type": "code",
   "execution_count": 32,
   "id": "2f4115c2",
   "metadata": {
    "scrolled": true
   },
   "outputs": [
    {
     "data": {
      "text/plain": [
       "_IncompatibleKeys(missing_keys=['head.weight', 'head.bias'], unexpected_keys=['head.mlp.0.weight', 'head.mlp.0.bias', 'head.mlp.2.weight', 'head.mlp.2.bias', 'head.mlp.4.weight', 'head.mlp.4.bias', 'head.last_layer.weight_g', 'head.last_layer.weight_v'])"
      ]
     },
     "execution_count": 32,
     "metadata": {},
     "output_type": "execute_result"
    }
   ],
   "source": [
    "model.load_state_dict(state_dict, strict = False)"
   ]
  },
  {
   "cell_type": "code",
   "execution_count": 9,
   "id": "1f8366d5",
   "metadata": {
    "scrolled": true
   },
   "outputs": [
    {
     "name": "stderr",
     "output_type": "stream",
     "text": [
      "C:\\Users\\mashi\\anaconda3\\envs\\dino\\lib\\site-packages\\torch\\optim\\lr_scheduler.py:134: UserWarning: Detected call of `lr_scheduler.step()` before `optimizer.step()`. In PyTorch 1.1.0 and later, you should call them in the opposite order: `optimizer.step()` before `lr_scheduler.step()`.  Failure to do this will result in PyTorch skipping the first value of the learning rate schedule. See more details at https://pytorch.org/docs/stable/optim.html#how-to-adjust-learning-rate\n",
      "  \"https://pytorch.org/docs/stable/optim.html#how-to-adjust-learning-rate\", UserWarning)\n",
      "100%|██████████| 99/99 [01:17<00:00,  1.28it/s]\n",
      "100%|██████████| 25/25 [00:09<00:00,  2.53it/s]\n"
     ]
    },
    {
     "name": "stdout",
     "output_type": "stream",
     "text": [
      "Epoch : 1 - loss : 1.1167 - acc: 0.6875 - val_loss : 0.5877 - val_acc: 0.8146\n",
      "\n"
     ]
    },
    {
     "name": "stderr",
     "output_type": "stream",
     "text": [
      "100%|██████████| 99/99 [00:48<00:00,  2.05it/s]\n",
      "100%|██████████| 25/25 [00:08<00:00,  2.81it/s]\n"
     ]
    },
    {
     "name": "stdout",
     "output_type": "stream",
     "text": [
      "Epoch : 2 - loss : 0.5128 - acc: 0.8330 - val_loss : 0.5258 - val_acc: 0.8336\n",
      "\n"
     ]
    },
    {
     "name": "stderr",
     "output_type": "stream",
     "text": [
      "100%|██████████| 99/99 [00:48<00:00,  2.05it/s]\n",
      "100%|██████████| 25/25 [00:08<00:00,  2.84it/s]\n"
     ]
    },
    {
     "name": "stdout",
     "output_type": "stream",
     "text": [
      "Epoch : 3 - loss : 0.3486 - acc: 0.8864 - val_loss : 0.3948 - val_acc: 0.8776\n",
      "\n"
     ]
    },
    {
     "name": "stderr",
     "output_type": "stream",
     "text": [
      "100%|██████████| 99/99 [00:48<00:00,  2.06it/s]\n",
      "100%|██████████| 25/25 [00:08<00:00,  2.83it/s]\n"
     ]
    },
    {
     "name": "stdout",
     "output_type": "stream",
     "text": [
      "Epoch : 4 - loss : 0.2396 - acc: 0.9236 - val_loss : 0.3360 - val_acc: 0.8978\n",
      "\n"
     ]
    },
    {
     "name": "stderr",
     "output_type": "stream",
     "text": [
      "100%|██████████| 99/99 [00:48<00:00,  2.05it/s]\n",
      "100%|██████████| 25/25 [00:08<00:00,  2.87it/s]\n"
     ]
    },
    {
     "name": "stdout",
     "output_type": "stream",
     "text": [
      "Epoch : 5 - loss : 0.1677 - acc: 0.9463 - val_loss : 0.3186 - val_acc: 0.9023\n",
      "\n"
     ]
    },
    {
     "name": "stderr",
     "output_type": "stream",
     "text": [
      "100%|██████████| 99/99 [00:48<00:00,  2.05it/s]\n",
      "100%|██████████| 25/25 [00:08<00:00,  2.86it/s]\n"
     ]
    },
    {
     "name": "stdout",
     "output_type": "stream",
     "text": [
      "Epoch : 6 - loss : 0.1226 - acc: 0.9611 - val_loss : 0.3350 - val_acc: 0.9113\n",
      "\n"
     ]
    },
    {
     "name": "stderr",
     "output_type": "stream",
     "text": [
      "100%|██████████| 99/99 [00:48<00:00,  2.05it/s]\n",
      "100%|██████████| 25/25 [00:08<00:00,  2.84it/s]\n"
     ]
    },
    {
     "name": "stdout",
     "output_type": "stream",
     "text": [
      "Epoch : 7 - loss : 0.0959 - acc: 0.9679 - val_loss : 0.4965 - val_acc: 0.8632\n",
      "\n"
     ]
    },
    {
     "name": "stderr",
     "output_type": "stream",
     "text": [
      "100%|██████████| 99/99 [00:48<00:00,  2.04it/s]\n",
      "100%|██████████| 25/25 [00:08<00:00,  2.84it/s]\n"
     ]
    },
    {
     "name": "stdout",
     "output_type": "stream",
     "text": [
      "Epoch : 8 - loss : 0.0966 - acc: 0.9693 - val_loss : 0.3491 - val_acc: 0.9001\n",
      "\n"
     ]
    },
    {
     "name": "stderr",
     "output_type": "stream",
     "text": [
      "100%|██████████| 99/99 [00:48<00:00,  2.05it/s]\n",
      "100%|██████████| 25/25 [00:08<00:00,  2.80it/s]\n"
     ]
    },
    {
     "name": "stdout",
     "output_type": "stream",
     "text": [
      "Epoch : 9 - loss : 0.0533 - acc: 0.9831 - val_loss : 0.3623 - val_acc: 0.9003\n",
      "\n"
     ]
    },
    {
     "name": "stderr",
     "output_type": "stream",
     "text": [
      "100%|██████████| 99/99 [00:48<00:00,  2.04it/s]\n",
      "100%|██████████| 25/25 [00:08<00:00,  2.82it/s]\n"
     ]
    },
    {
     "name": "stdout",
     "output_type": "stream",
     "text": [
      "Epoch : 10 - loss : 0.0353 - acc: 0.9904 - val_loss : 0.3709 - val_acc: 0.9182\n",
      "\n"
     ]
    },
    {
     "name": "stderr",
     "output_type": "stream",
     "text": [
      "100%|██████████| 99/99 [00:48<00:00,  2.06it/s]\n",
      "100%|██████████| 25/25 [00:08<00:00,  2.84it/s]\n"
     ]
    },
    {
     "name": "stdout",
     "output_type": "stream",
     "text": [
      "Epoch : 11 - loss : 0.0459 - acc: 0.9855 - val_loss : 0.3864 - val_acc: 0.8951\n",
      "\n"
     ]
    },
    {
     "name": "stderr",
     "output_type": "stream",
     "text": [
      "100%|██████████| 99/99 [00:48<00:00,  2.06it/s]\n",
      "100%|██████████| 25/25 [00:08<00:00,  2.84it/s]\n"
     ]
    },
    {
     "name": "stdout",
     "output_type": "stream",
     "text": [
      "Epoch : 12 - loss : 0.0471 - acc: 0.9840 - val_loss : 0.3632 - val_acc: 0.9100\n",
      "\n"
     ]
    },
    {
     "name": "stderr",
     "output_type": "stream",
     "text": [
      "100%|██████████| 99/99 [00:48<00:00,  2.04it/s]\n",
      "100%|██████████| 25/25 [00:08<00:00,  2.82it/s]\n"
     ]
    },
    {
     "name": "stdout",
     "output_type": "stream",
     "text": [
      "Epoch : 13 - loss : 0.0586 - acc: 0.9826 - val_loss : 0.4270 - val_acc: 0.8845\n",
      "\n"
     ]
    },
    {
     "name": "stderr",
     "output_type": "stream",
     "text": [
      "100%|██████████| 99/99 [00:48<00:00,  2.05it/s]\n",
      "100%|██████████| 25/25 [00:08<00:00,  2.83it/s]\n"
     ]
    },
    {
     "name": "stdout",
     "output_type": "stream",
     "text": [
      "Epoch : 14 - loss : 0.0221 - acc: 0.9924 - val_loss : 0.3725 - val_acc: 0.9222\n",
      "\n"
     ]
    },
    {
     "name": "stderr",
     "output_type": "stream",
     "text": [
      "100%|██████████| 99/99 [00:48<00:00,  2.03it/s]\n",
      "100%|██████████| 25/25 [00:08<00:00,  2.87it/s]\n"
     ]
    },
    {
     "name": "stdout",
     "output_type": "stream",
     "text": [
      "Epoch : 15 - loss : 0.0222 - acc: 0.9923 - val_loss : 0.5117 - val_acc: 0.8891\n",
      "\n"
     ]
    },
    {
     "name": "stderr",
     "output_type": "stream",
     "text": [
      "100%|██████████| 99/99 [00:48<00:00,  2.03it/s]\n",
      "100%|██████████| 25/25 [00:08<00:00,  2.82it/s]\n"
     ]
    },
    {
     "name": "stdout",
     "output_type": "stream",
     "text": [
      "Epoch : 16 - loss : 0.0178 - acc: 0.9950 - val_loss : 0.5173 - val_acc: 0.8969\n",
      "\n"
     ]
    },
    {
     "name": "stderr",
     "output_type": "stream",
     "text": [
      "100%|██████████| 99/99 [00:48<00:00,  2.04it/s]\n",
      "100%|██████████| 25/25 [00:08<00:00,  2.83it/s]\n"
     ]
    },
    {
     "name": "stdout",
     "output_type": "stream",
     "text": [
      "Epoch : 17 - loss : 0.0220 - acc: 0.9927 - val_loss : 0.4824 - val_acc: 0.9016\n",
      "\n"
     ]
    },
    {
     "name": "stderr",
     "output_type": "stream",
     "text": [
      "100%|██████████| 99/99 [00:48<00:00,  2.03it/s]\n",
      "100%|██████████| 25/25 [00:08<00:00,  2.81it/s]\n"
     ]
    },
    {
     "name": "stdout",
     "output_type": "stream",
     "text": [
      "Epoch : 18 - loss : 0.0286 - acc: 0.9908 - val_loss : 0.5130 - val_acc: 0.8879\n",
      "\n"
     ]
    },
    {
     "name": "stderr",
     "output_type": "stream",
     "text": [
      "100%|██████████| 99/99 [00:48<00:00,  2.02it/s]\n",
      "100%|██████████| 25/25 [00:08<00:00,  2.81it/s]\n"
     ]
    },
    {
     "name": "stdout",
     "output_type": "stream",
     "text": [
      "Epoch : 19 - loss : 0.0391 - acc: 0.9869 - val_loss : 0.4950 - val_acc: 0.8770\n",
      "\n"
     ]
    },
    {
     "name": "stderr",
     "output_type": "stream",
     "text": [
      "100%|██████████| 99/99 [00:48<00:00,  2.03it/s]\n",
      "100%|██████████| 25/25 [00:09<00:00,  2.77it/s]\n"
     ]
    },
    {
     "name": "stdout",
     "output_type": "stream",
     "text": [
      "Epoch : 20 - loss : 0.0177 - acc: 0.9940 - val_loss : 0.3757 - val_acc: 0.9153\n",
      "\n"
     ]
    },
    {
     "name": "stderr",
     "output_type": "stream",
     "text": [
      "100%|██████████| 99/99 [00:49<00:00,  2.01it/s]\n",
      "100%|██████████| 25/25 [00:08<00:00,  2.81it/s]\n"
     ]
    },
    {
     "name": "stdout",
     "output_type": "stream",
     "text": [
      "Epoch : 21 - loss : 0.0086 - acc: 0.9978 - val_loss : 0.4808 - val_acc: 0.9185\n",
      "\n"
     ]
    },
    {
     "name": "stderr",
     "output_type": "stream",
     "text": [
      "100%|██████████| 99/99 [00:48<00:00,  2.04it/s]\n",
      "100%|██████████| 25/25 [00:08<00:00,  2.78it/s]\n"
     ]
    },
    {
     "name": "stdout",
     "output_type": "stream",
     "text": [
      "Epoch : 22 - loss : 0.0082 - acc: 0.9979 - val_loss : 0.4083 - val_acc: 0.9154\n",
      "\n"
     ]
    },
    {
     "name": "stderr",
     "output_type": "stream",
     "text": [
      "100%|██████████| 99/99 [00:48<00:00,  2.04it/s]\n",
      "100%|██████████| 25/25 [00:08<00:00,  2.83it/s]\n"
     ]
    },
    {
     "name": "stdout",
     "output_type": "stream",
     "text": [
      "Epoch : 23 - loss : 0.0012 - acc: 0.9998 - val_loss : 0.3757 - val_acc: 0.9294\n",
      "\n"
     ]
    },
    {
     "name": "stderr",
     "output_type": "stream",
     "text": [
      "100%|██████████| 99/99 [00:48<00:00,  2.05it/s]\n",
      "100%|██████████| 25/25 [00:08<00:00,  2.84it/s]\n"
     ]
    },
    {
     "name": "stdout",
     "output_type": "stream",
     "text": [
      "Epoch : 24 - loss : 0.0002 - acc: 1.0000 - val_loss : 0.3775 - val_acc: 0.9326\n",
      "\n"
     ]
    },
    {
     "name": "stderr",
     "output_type": "stream",
     "text": [
      "100%|██████████| 99/99 [00:48<00:00,  2.04it/s]\n",
      "100%|██████████| 25/25 [00:08<00:00,  2.83it/s]\n"
     ]
    },
    {
     "name": "stdout",
     "output_type": "stream",
     "text": [
      "Epoch : 25 - loss : 0.0002 - acc: 1.0000 - val_loss : 0.3795 - val_acc: 0.9332\n",
      "\n"
     ]
    },
    {
     "name": "stderr",
     "output_type": "stream",
     "text": [
      "100%|██████████| 99/99 [00:48<00:00,  2.04it/s]\n",
      "100%|██████████| 25/25 [00:08<00:00,  2.83it/s]\n"
     ]
    },
    {
     "name": "stdout",
     "output_type": "stream",
     "text": [
      "Epoch : 26 - loss : 0.0001 - acc: 1.0000 - val_loss : 0.3826 - val_acc: 0.9338\n",
      "\n"
     ]
    },
    {
     "name": "stderr",
     "output_type": "stream",
     "text": [
      "100%|██████████| 99/99 [00:48<00:00,  2.04it/s]\n",
      "100%|██████████| 25/25 [00:08<00:00,  2.88it/s]\n"
     ]
    },
    {
     "name": "stdout",
     "output_type": "stream",
     "text": [
      "Epoch : 27 - loss : 0.0001 - acc: 1.0000 - val_loss : 0.3846 - val_acc: 0.9338\n",
      "\n"
     ]
    },
    {
     "name": "stderr",
     "output_type": "stream",
     "text": [
      "100%|██████████| 99/99 [00:48<00:00,  2.04it/s]\n",
      "100%|██████████| 25/25 [00:08<00:00,  2.83it/s]\n"
     ]
    },
    {
     "name": "stdout",
     "output_type": "stream",
     "text": [
      "Epoch : 28 - loss : 0.0001 - acc: 1.0000 - val_loss : 0.3870 - val_acc: 0.9332\n",
      "\n"
     ]
    },
    {
     "name": "stderr",
     "output_type": "stream",
     "text": [
      "100%|██████████| 99/99 [00:48<00:00,  2.05it/s]\n",
      "100%|██████████| 25/25 [00:08<00:00,  2.83it/s]\n"
     ]
    },
    {
     "name": "stdout",
     "output_type": "stream",
     "text": [
      "Epoch : 29 - loss : 0.0001 - acc: 1.0000 - val_loss : 0.3891 - val_acc: 0.9332\n",
      "\n"
     ]
    },
    {
     "name": "stderr",
     "output_type": "stream",
     "text": [
      "100%|██████████| 99/99 [00:48<00:00,  2.04it/s]\n",
      "100%|██████████| 25/25 [00:08<00:00,  2.83it/s]"
     ]
    },
    {
     "name": "stdout",
     "output_type": "stream",
     "text": [
      "Epoch : 30 - loss : 0.0001 - acc: 1.0000 - val_loss : 0.3917 - val_acc: 0.9332\n",
      "\n"
     ]
    },
    {
     "name": "stderr",
     "output_type": "stream",
     "text": [
      "\n"
     ]
    }
   ],
   "source": [
    "if num_of_tire_to_block == 0:\n",
    "    model_name = transformer+' '+data_dir\n",
    "else: \n",
    "    model_name = transformer+' '+data_dir+' '+str(num_of_tire_to_block)+'-wheel blocked'\n",
    "\n",
    "min_val_loss = 1\n",
    "epochs_no_improve = 0\n",
    "\n",
    "accuracy_train = []\n",
    "accuracy_test = []\n",
    "pred_labels = torch.empty(0).to(device)\n",
    "real_labels = torch.empty(0).to(device)\n",
    "wrong_data = torch.empty(0).to(device)\n",
    "\n",
    "for epoch in range(epochs):\n",
    "#     for param_group in optimizer.param_groups:\n",
    "#         print(param_group['lr'])\n",
    "    epoch_loss = 0\n",
    "    epoch_accuracy = 0\n",
    "    scheduler.step()\n",
    "    model.train()\n",
    "    for data, label in tqdm(train_loader):\n",
    "        data = data.to(device)\n",
    "        label = label.to(device)\n",
    "\n",
    "        output = model(data)\n",
    "        loss = criterion(output, label)\n",
    "\n",
    "        optimizer.zero_grad()\n",
    "        loss.backward()\n",
    "        optimizer.step()\n",
    "\n",
    "        acc = (output.argmax(dim=1) == label).float().mean()\n",
    "        epoch_accuracy += acc / len(train_loader)\n",
    "        epoch_loss += loss / len(train_loader)\n",
    "\n",
    "    with torch.no_grad():\n",
    "        model.eval()\n",
    "        epoch_val_accuracy = 0\n",
    "        epoch_val_loss = 0\n",
    "        for data, label in tqdm(valid_loader):\n",
    "            data = data.to(device)\n",
    "            label = label.to(device)\n",
    "\n",
    "            val_output = model(data)\n",
    "            val_loss = criterion(val_output, label)\n",
    "\n",
    "            acc = (val_output.argmax(dim=1) == label).float().mean()\n",
    "            epoch_val_accuracy += acc / len(valid_loader)\n",
    "            epoch_val_loss += val_loss / len(valid_loader)\n",
    "            if epoch == epochs-1:\n",
    "                pred_labels = torch.cat((pred_labels, torch.flatten(val_output.argmax(dim=1))))\n",
    "                real_labels = torch.cat((real_labels, torch.flatten(label)))\n",
    "\n",
    "    print(\n",
    "        f\"Epoch : {epoch+1} - loss : {epoch_loss:.4f} - acc: {epoch_accuracy:.4f} - val_loss : {epoch_val_loss:.4f} - val_acc: {epoch_val_accuracy:.4f}\\n\"\n",
    "    )\n",
    "\n",
    "    \n",
    "    accuracy_train.append(epoch_accuracy.cpu())\n",
    "    accuracy_test.append(epoch_val_accuracy.cpu())\n",
    "    \n",
    "torch.save(model.state_dict(), os.path.join('vit_weights', ''.join([model_name,'.pt'])))"
   ]
  },
  {
   "cell_type": "code",
   "execution_count": 10,
   "id": "2e673766",
   "metadata": {
    "scrolled": true
   },
   "outputs": [
    {
     "data": {
      "image/png": "[encoded data removed]",
      "text/plain": [
       "<Figure size 648x432 with 2 Axes>"
      ]
     },
     "metadata": {},
     "output_type": "display_data"
    }
   ],
   "source": [
    "cm = confusion_matrix(real_labels.cpu(), pred_labels.cpu())\n",
    "title = transformer + ' (' + data_dir + ') ' + str(num_of_tire_to_block) + '-wheel blocked'\n",
    "classes = ['C1','C2','C3','C4','C5','C6','C7','C8','C9','C10','C11','C12','C13']\n",
    "plot_confusion_matrix(cm, classes, 'confusion_matrix/'+title)"
   ]
  },
  {
   "cell_type": "code",
   "execution_count": 11,
   "id": "104acb91",
   "metadata": {
    "scrolled": true
   },
   "outputs": [
    {
     "data": {
      "image/png": "[encoded data removed]",
      "text/plain": [
       "<Figure size 432x288 with 2 Axes>"
      ]
     },
     "metadata": {},
     "output_type": "display_data"
    }
   ],
   "source": [
    "report = classification_report(real_labels.cpu(), pred_labels.cpu(), target_names=classes, digits=3,output_dict=True)\n",
    "rp = seaborn.heatmap(pd.DataFrame(report).iloc[:-1, :].T, annot=True, cmap='Blues')\n",
    "plt.title(title)\n",
    "plt.savefig(os.path.join('classification_report', ''.join([title,'.png'])),dpi=200, bbox_inches='tight')\n",
    "report = classification_report(real_labels.cpu(), pred_labels.cpu(), target_names=classes, digits=4,output_dict=False)\n",
    "with open(os.path.join('c_reports', ''.join([title,'.txt'])), \"w+\") as output:\n",
    "    output.write(report)"
   ]
  },
  {
   "cell_type": "code",
   "execution_count": 12,
   "id": "966d62e2",
   "metadata": {
    "scrolled": true
   },
   "outputs": [
    {
     "name": "stderr",
     "output_type": "stream",
     "text": [
      "C:\\Users\\mashi\\anaconda3\\envs\\dino\\lib\\site-packages\\ipykernel_launcher.py:7: MatplotlibDeprecationWarning: The 'b' parameter of grid() has been renamed 'visible' since Matplotlib 3.5; support for the old name will be dropped two minor releases later.\n",
      "  import sys\n"
     ]
    },
    {
     "data": {
      "image/png": "[encoded data removed]",
      "text/plain": [
       "<Figure size 432x288 with 1 Axes>"
      ]
     },
     "metadata": {},
     "output_type": "display_data"
    }
   ],
   "source": [
    "epoch50 = list(range(1,epochs+1))\n",
    "plt.plot(epoch50, accuracy_train,label='training')\n",
    "plt.plot(epoch50, accuracy_test,label='test')\n",
    "plt.legend(loc='lower right')\n",
    "plt.xlabel('Epochs')\n",
    "plt.ylabel('accuracy')\n",
    "plt.grid(b=True, which='major', color='w', linestyle='-')\n",
    "plt.ylim([0.3,1.1])\n",
    "plt.title(title)\n",
    "plt.axis('on')\n",
    "plt.savefig(os.path.join('acc_pics', ''.join([title,'.png'])),dpi=120)"
   ]
  },
  {
   "cell_type": "code",
   "execution_count": 33,
   "id": "0ba44de5",
   "metadata": {
    "scrolled": true
   },
   "outputs": [
    {
     "name": "stderr",
     "output_type": "stream",
     "text": [
      "100%|██████████| 6318/6318 [01:34<00:00, 66.79it/s]\n",
      "100%|██████████| 1580/1580 [00:23<00:00, 65.98it/s]\n"
     ]
    }
   ],
   "source": [
    "if num_of_tire_to_block == 0:\n",
    "    model_name = transformer+' '+data_dir\n",
    "else: \n",
    "    model_name = transformer+' '+data_dir+' '+str(num_of_tire_to_block)+'-wheel blocked'\n",
    "\n",
    "\n",
    "import vit_pytorch_new.dino_vit as vits\n",
    "vit = vits.__dict__['vit_small'](patch_size=16)\n",
    "\n",
    "model = vit.to(device)\n",
    "\n",
    "model.load_state_dict(torch.load(os.path.join('vit_weights', ''.join([model_name,'.pt']))), strict = False)\n",
    "model.eval()\n",
    "\n",
    "train_features = torch.empty(0).to(device)\n",
    "test_features = torch.empty(0).to(device)\n",
    "train_labels = []\n",
    "test_labels = []\n",
    "\n",
    "with torch.no_grad():\n",
    "    for data, label in tqdm(classifier_loader):\n",
    "        data = data.to(device)\n",
    "        train_labels.append(label.item())\n",
    "\n",
    "        val_output = model(data)\n",
    "        train_features = torch.cat((train_features, val_output))\n",
    "\n",
    "with torch.no_grad():\n",
    "    for data, label in tqdm(test_loader):\n",
    "        data = data.to(device)\n",
    "        test_labels.append(label.item())\n",
    "\n",
    "        val_output = model(data)\n",
    "        test_features = torch.cat((test_features, val_output))"
   ]
  },
  {
   "cell_type": "code",
   "execution_count": 44,
   "id": "af97c78e",
   "metadata": {
    "scrolled": true
   },
   "outputs": [],
   "source": [
    "if transformer == 'swin':\n",
    "    dim = 96*8\n",
    "    tire_multiplier = 2000\n",
    "elif transformer == 'tnt':\n",
    "    dim = img_size*2\n",
    "    tire_multiplier = 2000\n",
    "elif transformer == 't2t':\n",
    "    dim = 512\n",
    "    tire_multiplier = 2000\n",
    "elif transformer == 'cvt':\n",
    "    dim = 384\n",
    "    tire_multiplier = 2000\n",
    "elif transformer == 'cross_vit':\n",
    "    dim = 128\n",
    "    tire_multiplier = 2000\n",
    "elif transformer == 'dino_vit_custom' or 'dino_vit_pretrained' or 'dino_vit_finetuned':\n",
    "    dim = 384\n",
    "    tire_multiplier = 2000\n",
    "else:\n",
    "    dim = dim\n",
    "    tire_multiplier = 1000\n",
    "\n",
    "add_tire_info = True\n",
    "max_tire = 13\n",
    "\n",
    "\n",
    "if add_tire_info:\n",
    "    # concat ViT features with tire features\n",
    "    total_train = torch.zeros(len(train_features),dim+max_tire-1)\n",
    "    total_test = torch.zeros(len(test_features),dim+max_tire-1)\n",
    "\n",
    "    for f in range(len(train_features)):\n",
    "        img_name = train_list[f].split('\\\\')[-1].split('.')[0]\n",
    "        with open(''.join(['all_images_label/', img_name,'.txt']), 'r') as g:\n",
    "            text = g.read()\n",
    "            lines = text.split('\\n')\n",
    "            if lines[0]!='' and len(lines)>2:\n",
    "                tires_pos = []\n",
    "                for i in range(len(lines)-2):\n",
    "                    x = float(text.split()[(i+1)*5+1])\n",
    "                    tires_pos.append(x)\n",
    "                tires_pos.sort()\n",
    "                max_dist = tires_pos[-1] - tires_pos[0]\n",
    "                relative_dist = []\n",
    "                for t in range(len(tires_pos)-1):\n",
    "                    relative_dist.append((tires_pos[t+1]-tires_pos[t])*tire_multiplier/max_dist)\n",
    "            else:\n",
    "                relative_dist = [0]\n",
    "        total_train[f] = torch.cat((train_features[f], \n",
    "                            torch.as_tensor(relative_dist).to(device),\n",
    "                            torch.zeros(max_tire-1-len(relative_dist)).to(device)),0)\n",
    " \n",
    "    for f in range(len(test_features)):\n",
    "        img_name = test_list[f].split('\\\\')[-1].split('.')[0]\n",
    "        with open(''.join(['all_images_label/', img_name,'.txt']), 'r') as g:\n",
    "            text = g.read()\n",
    "            lines = text.split('\\n')\n",
    "            if lines[0]!='' and len(lines)>2:\n",
    "                tires_pos = []\n",
    "                for i in range(len(lines)-2):\n",
    "                    x = float(text.split()[(i+1)*5+1])\n",
    "                    tires_pos.append(x)\n",
    "                tires_pos.sort()\n",
    "                max_dist = tires_pos[-1] - tires_pos[0]\n",
    "                relative_dist = []\n",
    "                for t in range(len(tires_pos)-1):\n",
    "                    relative_dist.append((tires_pos[t+1]-tires_pos[t])*tire_multiplier/max_dist)\n",
    "            else:\n",
    "                relative_dist = [0]\n",
    "        total_test[f] = torch.cat((test_features[f], \n",
    "                            torch.as_tensor(relative_dist).to(device),\n",
    "                            torch.zeros(max_tire-1-len(relative_dist)).to(device)),0)"
   ]
  },
  {
   "cell_type": "code",
   "execution_count": 45,
   "id": "b59138d7",
   "metadata": {
    "scrolled": true
   },
   "outputs": [
    {
     "name": "stdout",
     "output_type": "stream",
     "text": [
      "396\n"
     ]
    }
   ],
   "source": [
    "from vit_pytorch_new.MLP import MLP\n",
    "\n",
    "input_features = total_train.size()[1]\n",
    "model = MLP(input_features=input_features, num_classes = num_classes).to(device)\n",
    "print(input_features)"
   ]
  },
  {
   "cell_type": "code",
   "execution_count": 46,
   "id": "8df2ce2e",
   "metadata": {
    "scrolled": true
   },
   "outputs": [],
   "source": [
    "class featuresData(Dataset):\n",
    "    def __init__(self, tensors, labels,transform=None):\n",
    "        self.tensors = tensors\n",
    "        self.transform = transform\n",
    "        self.labels = labels\n",
    "\n",
    "    def __len__(self):\n",
    "        self.tensorslength = len(self.tensors)\n",
    "        return self.tensorslength\n",
    "\n",
    "    def __getitem__(self, idx):\n",
    "        tensor = self.tensors[idx]\n",
    "        label = self.labels[idx]\n",
    "        return tensor, label"
   ]
  },
  {
   "cell_type": "code",
   "execution_count": 47,
   "id": "33ca8cef",
   "metadata": {
    "scrolled": true
   },
   "outputs": [
    {
     "name": "stdout",
     "output_type": "stream",
     "text": [
      "6318 198\n",
      "1580 50\n"
     ]
    }
   ],
   "source": [
    "# Dataloaders for MLP\n",
    "train_tensors = featuresData(total_train, transform= None, labels = train_labels)\n",
    "total_train_loader = DataLoader(dataset = train_tensors, batch_size=32, shuffle=True)\n",
    "\n",
    "test_tensors = featuresData(total_test, transform= None, labels = test_labels)\n",
    "total_test_loader = DataLoader(dataset = test_tensors, batch_size=32, shuffle=False)\n",
    "print(len(train_tensors), len(total_train_loader))\n",
    "print(len(test_tensors), len(total_test_loader))\n",
    "\n",
    "# loss function\n",
    "criterion = nn.CrossEntropyLoss()\n",
    "# optimizer\n",
    "optimizer = optim.Adam(model.parameters(), lr=lr)"
   ]
  },
  {
   "cell_type": "code",
   "execution_count": 48,
   "id": "aec5ac07",
   "metadata": {
    "scrolled": true
   },
   "outputs": [
    {
     "name": "stderr",
     "output_type": "stream",
     "text": [
      "100%|██████████| 198/198 [00:00<00:00, 338.42it/s]\n",
      "100%|██████████| 50/50 [00:00<00:00, 1562.50it/s]\n"
     ]
    },
    {
     "name": "stdout",
     "output_type": "stream",
     "text": [
      "Epoch : 1 - loss : 1.2207 - acc: 0.7019 - val_loss : 0.4893 - val_acc: 0.8600\n",
      "\n"
     ]
    },
    {
     "name": "stderr",
     "output_type": "stream",
     "text": [
      "100%|██████████| 198/198 [00:00<00:00, 509.00it/s]\n",
      "100%|██████████| 50/50 [00:00<00:00, 1470.58it/s]\n"
     ]
    },
    {
     "name": "stdout",
     "output_type": "stream",
     "text": [
      "Epoch : 2 - loss : 0.9356 - acc: 0.8600 - val_loss : 0.2814 - val_acc: 0.9356\n",
      "\n"
     ]
    },
    {
     "name": "stderr",
     "output_type": "stream",
     "text": [
      "100%|██████████| 198/198 [00:00<00:00, 491.31it/s]\n",
      "100%|██████████| 50/50 [00:00<00:00, 1515.11it/s]\n"
     ]
    },
    {
     "name": "stdout",
     "output_type": "stream",
     "text": [
      "Epoch : 3 - loss : 0.8045 - acc: 0.9300 - val_loss : 0.2336 - val_acc: 0.9475\n",
      "\n"
     ]
    },
    {
     "name": "stderr",
     "output_type": "stream",
     "text": [
      "100%|██████████| 198/198 [00:00<00:00, 510.31it/s]\n",
      "100%|██████████| 50/50 [00:00<00:00, 1515.58it/s]\n"
     ]
    },
    {
     "name": "stdout",
     "output_type": "stream",
     "text": [
      "Epoch : 4 - loss : 0.7872 - acc: 0.9463 - val_loss : 0.2760 - val_acc: 0.9575\n",
      "\n"
     ]
    },
    {
     "name": "stderr",
     "output_type": "stream",
     "text": [
      "100%|██████████| 198/198 [00:00<00:00, 502.54it/s]\n",
      "100%|██████████| 50/50 [00:00<00:00, 1515.17it/s]\n"
     ]
    },
    {
     "name": "stdout",
     "output_type": "stream",
     "text": [
      "Epoch : 5 - loss : 0.4156 - acc: 0.9645 - val_loss : 0.3075 - val_acc: 0.9644\n",
      "\n"
     ]
    },
    {
     "name": "stderr",
     "output_type": "stream",
     "text": [
      "100%|██████████| 198/198 [00:00<00:00, 502.54it/s]\n",
      "100%|██████████| 50/50 [00:00<00:00, 1612.90it/s]\n"
     ]
    },
    {
     "name": "stdout",
     "output_type": "stream",
     "text": [
      "Epoch : 6 - loss : 0.3512 - acc: 0.9744 - val_loss : 0.3001 - val_acc: 0.9588\n",
      "\n"
     ]
    },
    {
     "name": "stderr",
     "output_type": "stream",
     "text": [
      "100%|██████████| 198/198 [00:00<00:00, 515.62it/s]\n",
      "100%|██████████| 50/50 [00:00<00:00, 1562.14it/s]\n"
     ]
    },
    {
     "name": "stdout",
     "output_type": "stream",
     "text": [
      "Epoch : 7 - loss : 0.3055 - acc: 0.9721 - val_loss : 0.5696 - val_acc: 0.9556\n",
      "\n"
     ]
    },
    {
     "name": "stderr",
     "output_type": "stream",
     "text": [
      "100%|██████████| 198/198 [00:00<00:00, 505.16it/s]\n",
      "100%|██████████| 50/50 [00:00<00:00, 1562.65it/s]\n"
     ]
    },
    {
     "name": "stdout",
     "output_type": "stream",
     "text": [
      "Epoch : 8 - loss : 0.2840 - acc: 0.9732 - val_loss : 0.4227 - val_acc: 0.9556\n",
      "\n"
     ]
    },
    {
     "name": "stderr",
     "output_type": "stream",
     "text": [
      "100%|██████████| 198/198 [00:00<00:00, 507.70it/s]\n",
      "100%|██████████| 50/50 [00:00<00:00, 1517.11it/s]\n"
     ]
    },
    {
     "name": "stdout",
     "output_type": "stream",
     "text": [
      "Epoch : 9 - loss : 0.5281 - acc: 0.9740 - val_loss : 0.3081 - val_acc: 0.9619\n",
      "\n"
     ]
    },
    {
     "name": "stderr",
     "output_type": "stream",
     "text": [
      "100%|██████████| 198/198 [00:00<00:00, 510.29it/s]\n",
      "100%|██████████| 50/50 [00:00<00:00, 1514.35it/s]\n"
     ]
    },
    {
     "name": "stdout",
     "output_type": "stream",
     "text": [
      "Epoch : 10 - loss : 0.3639 - acc: 0.9761 - val_loss : 0.5864 - val_acc: 0.9550\n",
      "\n"
     ]
    },
    {
     "name": "stderr",
     "output_type": "stream",
     "text": [
      "100%|██████████| 198/198 [00:00<00:00, 506.37it/s]\n",
      "100%|██████████| 50/50 [00:00<00:00, 1562.51it/s]\n"
     ]
    },
    {
     "name": "stdout",
     "output_type": "stream",
     "text": [
      "Epoch : 11 - loss : 0.2342 - acc: 0.9759 - val_loss : 0.3396 - val_acc: 0.9688\n",
      "\n"
     ]
    },
    {
     "name": "stderr",
     "output_type": "stream",
     "text": [
      "100%|██████████| 198/198 [00:00<00:00, 502.54it/s]\n",
      "100%|██████████| 50/50 [00:00<00:00, 1562.50it/s]\n"
     ]
    },
    {
     "name": "stdout",
     "output_type": "stream",
     "text": [
      "Epoch : 12 - loss : 0.2103 - acc: 0.9814 - val_loss : 0.5565 - val_acc: 0.9594\n",
      "\n"
     ]
    },
    {
     "name": "stderr",
     "output_type": "stream",
     "text": [
      "100%|██████████| 198/198 [00:00<00:00, 501.32it/s]\n",
      "100%|██████████| 50/50 [00:00<00:00, 1513.72it/s]\n"
     ]
    },
    {
     "name": "stdout",
     "output_type": "stream",
     "text": [
      "Epoch : 13 - loss : 0.1752 - acc: 0.9880 - val_loss : 0.5930 - val_acc: 0.9656\n",
      "\n"
     ]
    },
    {
     "name": "stderr",
     "output_type": "stream",
     "text": [
      "100%|██████████| 198/198 [00:00<00:00, 510.31it/s]\n",
      "100%|██████████| 50/50 [00:00<00:00, 1514.98it/s]\n"
     ]
    },
    {
     "name": "stdout",
     "output_type": "stream",
     "text": [
      "Epoch : 14 - loss : 0.2839 - acc: 0.9850 - val_loss : 0.7130 - val_acc: 0.9619\n",
      "\n"
     ]
    },
    {
     "name": "stderr",
     "output_type": "stream",
     "text": [
      "100%|██████████| 198/198 [00:00<00:00, 512.94it/s]\n",
      "100%|██████████| 50/50 [00:00<00:00, 1562.85it/s]\n"
     ]
    },
    {
     "name": "stdout",
     "output_type": "stream",
     "text": [
      "Epoch : 15 - loss : 0.1778 - acc: 0.9793 - val_loss : 0.6085 - val_acc: 0.9575\n",
      "\n"
     ]
    },
    {
     "name": "stderr",
     "output_type": "stream",
     "text": [
      "100%|██████████| 198/198 [00:00<00:00, 506.39it/s]\n",
      "100%|██████████| 50/50 [00:00<00:00, 1562.66it/s]\n"
     ]
    },
    {
     "name": "stdout",
     "output_type": "stream",
     "text": [
      "Epoch : 16 - loss : 0.2544 - acc: 0.9837 - val_loss : 0.6451 - val_acc: 0.9600\n",
      "\n"
     ]
    },
    {
     "name": "stderr",
     "output_type": "stream",
     "text": [
      "100%|██████████| 198/198 [00:00<00:00, 511.62it/s]\n",
      "100%|██████████| 50/50 [00:00<00:00, 1562.54it/s]\n"
     ]
    },
    {
     "name": "stdout",
     "output_type": "stream",
     "text": [
      "Epoch : 17 - loss : 0.2486 - acc: 0.9811 - val_loss : 0.4893 - val_acc: 0.9575\n",
      "\n"
     ]
    },
    {
     "name": "stderr",
     "output_type": "stream",
     "text": [
      "100%|██████████| 198/198 [00:00<00:00, 514.27it/s]\n",
      "100%|██████████| 50/50 [00:00<00:00, 1560.50it/s]\n"
     ]
    },
    {
     "name": "stdout",
     "output_type": "stream",
     "text": [
      "Epoch : 18 - loss : 0.1658 - acc: 0.9844 - val_loss : 1.0665 - val_acc: 0.9425\n",
      "\n"
     ]
    },
    {
     "name": "stderr",
     "output_type": "stream",
     "text": [
      "100%|██████████| 198/198 [00:00<00:00, 507.70it/s]\n",
      "100%|██████████| 50/50 [00:00<00:00, 1515.35it/s]\n"
     ]
    },
    {
     "name": "stdout",
     "output_type": "stream",
     "text": [
      "Epoch : 19 - loss : 0.1566 - acc: 0.9855 - val_loss : 0.7946 - val_acc: 0.9625\n",
      "\n"
     ]
    },
    {
     "name": "stderr",
     "output_type": "stream",
     "text": [
      "100%|██████████| 198/198 [00:00<00:00, 509.00it/s]\n",
      "100%|██████████| 50/50 [00:00<00:00, 1470.93it/s]\n"
     ]
    },
    {
     "name": "stdout",
     "output_type": "stream",
     "text": [
      "Epoch : 20 - loss : 0.1541 - acc: 0.9807 - val_loss : 0.5895 - val_acc: 0.9675\n",
      "\n"
     ]
    },
    {
     "name": "stderr",
     "output_type": "stream",
     "text": [
      "100%|██████████| 198/198 [00:00<00:00, 505.11it/s]\n",
      "100%|██████████| 50/50 [00:00<00:00, 1515.50it/s]\n"
     ]
    },
    {
     "name": "stdout",
     "output_type": "stream",
     "text": [
      "Epoch : 21 - loss : 0.2550 - acc: 0.9842 - val_loss : 0.7099 - val_acc: 0.9600\n",
      "\n"
     ]
    },
    {
     "name": "stderr",
     "output_type": "stream",
     "text": [
      "100%|██████████| 198/198 [00:00<00:00, 507.66it/s]\n",
      "100%|██████████| 50/50 [00:00<00:00, 1562.67it/s]\n"
     ]
    },
    {
     "name": "stdout",
     "output_type": "stream",
     "text": [
      "Epoch : 22 - loss : 0.1233 - acc: 0.9877 - val_loss : 0.6046 - val_acc: 0.9656\n",
      "\n"
     ]
    },
    {
     "name": "stderr",
     "output_type": "stream",
     "text": [
      "100%|██████████| 198/198 [00:00<00:00, 506.38it/s]\n",
      "100%|██████████| 50/50 [00:00<00:00, 1515.81it/s]\n"
     ]
    },
    {
     "name": "stdout",
     "output_type": "stream",
     "text": [
      "Epoch : 23 - loss : 0.3081 - acc: 0.9882 - val_loss : 0.5390 - val_acc: 0.9631\n",
      "\n"
     ]
    },
    {
     "name": "stderr",
     "output_type": "stream",
     "text": [
      "100%|██████████| 198/198 [00:00<00:00, 509.05it/s]\n",
      "100%|██████████| 50/50 [00:00<00:00, 1470.56it/s]\n"
     ]
    },
    {
     "name": "stdout",
     "output_type": "stream",
     "text": [
      "Epoch : 24 - loss : 0.1104 - acc: 0.9875 - val_loss : 0.5395 - val_acc: 0.9638\n",
      "\n"
     ]
    },
    {
     "name": "stderr",
     "output_type": "stream",
     "text": [
      "100%|██████████| 198/198 [00:00<00:00, 511.62it/s]\n",
      "100%|██████████| 50/50 [00:00<00:00, 1514.78it/s]\n"
     ]
    },
    {
     "name": "stdout",
     "output_type": "stream",
     "text": [
      "Epoch : 25 - loss : 0.3179 - acc: 0.9875 - val_loss : 0.5922 - val_acc: 0.9644\n",
      "\n"
     ]
    },
    {
     "name": "stderr",
     "output_type": "stream",
     "text": [
      "100%|██████████| 198/198 [00:00<00:00, 505.10it/s]\n",
      "100%|██████████| 50/50 [00:00<00:00, 1514.98it/s]\n"
     ]
    },
    {
     "name": "stdout",
     "output_type": "stream",
     "text": [
      "Epoch : 26 - loss : 0.0834 - acc: 0.9855 - val_loss : 0.8583 - val_acc: 0.9613\n",
      "\n"
     ]
    },
    {
     "name": "stderr",
     "output_type": "stream",
     "text": [
      "100%|██████████| 198/198 [00:00<00:00, 506.35it/s]\n",
      "100%|██████████| 50/50 [00:00<00:00, 1562.45it/s]\n"
     ]
    },
    {
     "name": "stdout",
     "output_type": "stream",
     "text": [
      "Epoch : 27 - loss : 0.0994 - acc: 0.9869 - val_loss : 0.8512 - val_acc: 0.9538\n",
      "\n"
     ]
    },
    {
     "name": "stderr",
     "output_type": "stream",
     "text": [
      "100%|██████████| 198/198 [00:00<00:00, 506.40it/s]\n",
      "100%|██████████| 50/50 [00:00<00:00, 1515.16it/s]\n"
     ]
    },
    {
     "name": "stdout",
     "output_type": "stream",
     "text": [
      "Epoch : 28 - loss : 0.0730 - acc: 0.9901 - val_loss : 0.6816 - val_acc: 0.9588\n",
      "\n"
     ]
    },
    {
     "name": "stderr",
     "output_type": "stream",
     "text": [
      "100%|██████████| 198/198 [00:00<00:00, 510.31it/s]\n",
      "100%|██████████| 50/50 [00:00<00:00, 1470.45it/s]\n"
     ]
    },
    {
     "name": "stdout",
     "output_type": "stream",
     "text": [
      "Epoch : 29 - loss : 0.2884 - acc: 0.9856 - val_loss : 0.6495 - val_acc: 0.9619\n",
      "\n"
     ]
    },
    {
     "name": "stderr",
     "output_type": "stream",
     "text": [
      "100%|██████████| 198/198 [00:00<00:00, 506.42it/s]\n",
      "100%|██████████| 50/50 [00:00<00:00, 1517.29it/s]\n"
     ]
    },
    {
     "name": "stdout",
     "output_type": "stream",
     "text": [
      "Epoch : 30 - loss : 0.1811 - acc: 0.9884 - val_loss : 0.7761 - val_acc: 0.9600\n",
      "\n"
     ]
    },
    {
     "name": "stderr",
     "output_type": "stream",
     "text": [
      "100%|██████████| 198/198 [00:00<00:00, 505.05it/s]\n",
      "100%|██████████| 50/50 [00:00<00:00, 1428.00it/s]\n"
     ]
    },
    {
     "name": "stdout",
     "output_type": "stream",
     "text": [
      "Epoch : 31 - loss : 0.1457 - acc: 0.9912 - val_loss : 0.7710 - val_acc: 0.9706\n",
      "\n"
     ]
    },
    {
     "name": "stderr",
     "output_type": "stream",
     "text": [
      "100%|██████████| 50/50 [00:00<00:00, 1783.11it/s]\n"
     ]
    }
   ],
   "source": [
    "epochs = 50\n",
    "break_limit = 0.97\n",
    "accuracy_train = []\n",
    "accuracy_test = []\n",
    "pred_labels = torch.empty(0).to(device)\n",
    "real_labels = torch.empty(0).to(device)\n",
    "\n",
    "for epoch in range(epochs):\n",
    "    epoch_loss = 0\n",
    "    epoch_accuracy = 0\n",
    "\n",
    "    model.train()\n",
    "    for data, label in tqdm(total_train_loader):\n",
    "        data = data.to(device)\n",
    "        label = label.to(device)\n",
    "        optimizer.zero_grad()\n",
    "\n",
    "        output = model(data)\n",
    "        loss = criterion(output, label)\n",
    "\n",
    "        \n",
    "        loss.backward()\n",
    "        optimizer.step()\n",
    "\n",
    "        acc = (output.argmax(dim=1) == label).float().mean()\n",
    "        epoch_accuracy += acc / len(total_train_loader)\n",
    "        epoch_loss += loss / len(total_train_loader)\n",
    "\n",
    "    with torch.no_grad():\n",
    "        model.eval()\n",
    "        epoch_val_accuracy = 0\n",
    "        epoch_val_loss = 0\n",
    "        for data, label in tqdm(total_test_loader):\n",
    "            data = data.to(device)\n",
    "            label = label.to(device)\n",
    "\n",
    "            val_output = model(data)\n",
    "            val_loss = criterion(val_output, label)\n",
    "\n",
    "            acc = (val_output.argmax(dim=1) == label).float().mean()\n",
    "            epoch_val_accuracy += acc / len(total_test_loader)\n",
    "            epoch_val_loss += val_loss / len(total_test_loader)\n",
    "            if epoch == epochs-1:\n",
    "                pred_labels = torch.cat((pred_labels, torch.flatten(val_output.argmax(dim=1))))\n",
    "                real_labels = torch.cat((real_labels, torch.flatten(label)))    \n",
    "                \n",
    "                \n",
    "    print(\n",
    "        f\"Epoch : {epoch+1} - loss : {epoch_loss:.4f} - acc: {epoch_accuracy:.4f} - val_loss : {epoch_val_loss:.4f} - val_acc: {epoch_val_accuracy:.4f}\\n\"\n",
    "    )\n",
    "    \n",
    "    accuracy_train.append(epoch_accuracy.cpu())\n",
    "    accuracy_test.append(epoch_val_accuracy.cpu())\n",
    "    \n",
    "    if epoch_val_accuracy > break_limit:\n",
    "        with torch.no_grad():\n",
    "            model.eval()\n",
    "            for data, label in tqdm(total_test_loader):\n",
    "                data = data.to(device)\n",
    "                label = label.to(device)\n",
    "                val_output = model(data)\n",
    "                pred_labels = torch.cat((pred_labels, torch.flatten(val_output.argmax(dim=1))))\n",
    "                real_labels = torch.cat((real_labels, torch.flatten(label)))    \n",
    "        break\n",
    "    \n",
    "# torch.save(model.state_dict(), os.path.join('mlp_weights', ''.join([model_name,'.pt'])))"
   ]
  },
  {
   "cell_type": "code",
   "execution_count": 55,
   "id": "4faa5e7b",
   "metadata": {},
   "outputs": [
    {
     "data": {
      "text/plain": [
       "tensor([[-6.1576e+01, -7.0731e+01, -4.8886e+01, -4.3742e+01, -3.9585e+01,\n",
       "         -4.0010e+01, -6.6736e+01, -1.7996e+01,  8.1717e+01, -3.6302e+01,\n",
       "         -4.5089e+01, -4.3245e+01, -3.6039e+01],\n",
       "        [-2.0839e+01,  5.4716e+01, -2.4129e+01, -1.8710e+01, -2.7458e+01,\n",
       "         -5.4775e+01, -2.1113e+01, -2.7626e+01, -4.5609e+01, -3.3577e+01,\n",
       "         -3.2040e+01, -2.4527e+01, -1.6755e+01],\n",
       "        [-2.4420e+01,  5.5053e+01, -2.5075e+01, -2.2578e+01, -2.9226e+01,\n",
       "         -5.2882e+01, -1.5987e+01, -2.7445e+01, -4.7269e+01, -3.5989e+01,\n",
       "         -3.0418e+01, -2.5499e+01, -1.3403e+01],\n",
       "        [-2.6887e+01,  7.2932e+01, -3.4636e+01, -2.6938e+01, -3.8980e+01,\n",
       "         -7.2617e+01, -2.5962e+01, -3.8702e+01, -6.1077e+01, -4.4065e+01,\n",
       "         -4.1497e+01, -3.2010e+01, -2.0264e+01],\n",
       "        [-6.1723e+02,  1.2797e+03, -1.0135e+02, -7.2363e+02, -8.0844e+02,\n",
       "         -1.2767e+03, -5.8940e+02, -8.1471e+02, -1.3637e+03, -9.1777e+02,\n",
       "         -9.3671e+02, -7.4753e+02, -5.0828e+02],\n",
       "        [-3.5914e+01,  8.8188e+01, -4.3374e+01, -3.6576e+01, -4.8358e+01,\n",
       "         -8.6197e+01, -2.4945e+01, -4.6056e+01, -7.5886e+01, -5.6513e+01,\n",
       "         -4.8303e+01, -4.0268e+01, -2.0778e+01],\n",
       "        [-2.1057e+01, -2.3536e+01, -1.6130e+01, -1.4964e+01, -1.3552e+01,\n",
       "         -1.3167e+01, -2.1849e+01, -5.2939e+00,  2.7974e+01, -1.1278e+01,\n",
       "         -1.5226e+01, -1.5095e+01, -1.1830e+01],\n",
       "        [-3.4170e+01, -1.9007e+01, -3.1877e+01, -2.5454e+01, -3.2382e+01,\n",
       "         -4.4032e+01, -2.5699e+01, -4.5137e+01, -4.3536e+01, -2.9730e+01,\n",
       "         -1.4386e+01, -1.7973e+01,  6.6669e+01],\n",
       "        [-1.8009e+01, -1.7614e+01,  4.4269e+01, -1.7649e+01, -1.6500e+01,\n",
       "         -1.0000e+01, -2.9612e+01, -1.7281e+01, -2.8080e+01, -2.1579e+01,\n",
       "         -1.8040e+01, -1.4307e+01, -2.4759e+01],\n",
       "        [-5.4881e+01, -6.2502e+01, -4.3714e+01, -3.8645e+01, -3.3902e+01,\n",
       "         -3.4995e+01, -5.9056e+01, -1.5464e+01,  7.2711e+01, -3.2296e+01,\n",
       "         -3.9991e+01, -3.6915e+01, -3.1762e+01],\n",
       "        [-2.5205e+00, -5.5176e+00, -2.5457e+00, -2.4552e+00, -2.1313e+00,\n",
       "          4.6427e+00, -5.2141e-01, -1.8332e+00, -1.3581e+00, -1.3954e+00,\n",
       "         -6.8507e-01, -2.7958e+00, -4.7670e+00],\n",
       "        [-4.8596e+01, -5.4368e+01, -3.8442e+01, -3.3256e+01, -3.0297e+01,\n",
       "         -3.0343e+01, -5.0624e+01, -1.1597e+01,  6.3589e+01, -2.7543e+01,\n",
       "         -3.3411e+01, -3.4575e+01, -2.8411e+01]], device='cuda:0')"
      ]
     },
     "execution_count": 55,
     "metadata": {},
     "output_type": "execute_result"
    }
   ],
   "source": [
    "# torch.flatten(val_output.argmax(dim=1))\n",
    "val_output"
   ]
  },
  {
   "cell_type": "code",
   "execution_count": 15,
   "id": "bea8d99f",
   "metadata": {
    "scrolled": true
   },
   "outputs": [
    {
     "data": {
      "image/png": "[encoded data removed]",
      "text/plain": [
       "<Figure size 648x432 with 2 Axes>"
      ]
     },
     "metadata": {},
     "output_type": "display_data"
    }
   ],
   "source": [
    "cm = confusion_matrix(real_labels.cpu(), pred_labels.cpu())\n",
    "title = transformer + ' (' + data_dir + ') ' + str(num_of_tire_to_block) + '-wheel blocked'+ ', with wheel info'\n",
    "classes = ['C1','C2','C3','C4','C5','C6','C7','C8','C9','C10','C11','C12','C13']\n",
    "plot_confusion_matrix(cm, classes, 'confusion_matrix/'+title)"
   ]
  },
  {
   "cell_type": "code",
   "execution_count": 16,
   "id": "d0747a89",
   "metadata": {
    "scrolled": true
   },
   "outputs": [
    {
     "data": {
      "image/png": "[encoded data removed]",
      "text/plain": [
       "<Figure size 432x288 with 2 Axes>"
      ]
     },
     "metadata": {},
     "output_type": "display_data"
    }
   ],
   "source": [
    "report = classification_report(real_labels.cpu(), pred_labels.cpu(), target_names=classes, digits=3,output_dict=True)\n",
    "rp = seaborn.heatmap(pd.DataFrame(report).iloc[:-1, :].T, annot=True, cmap='Blues')\n",
    "plt.title(title)\n",
    "plt.savefig(os.path.join('classification_report', ''.join([title,'.png'])),dpi=200, bbox_inches='tight')\n",
    "report = classification_report(real_labels.cpu(), pred_labels.cpu(), target_names=classes, digits=4,output_dict=False)\n",
    "with open(os.path.join('c_reports', ''.join([title,'.txt'])), \"w+\") as output:\n",
    "    output.write(report)"
   ]
  },
  {
   "cell_type": "code",
   "execution_count": null,
   "id": "26fe450f",
   "metadata": {
    "scrolled": true
   },
   "outputs": [],
   "source": []
  }
 ],
 "metadata": {
  "kernelspec": {
   "display_name": "Python 3 (ipykernel)",
   "language": "python",
   "name": "python3"
  },
  "language_info": {
   "codemirror_mode": {
    "name": "ipython",
    "version": 3
   },
   "file_extension": ".py",
   "mimetype": "text/x-python",
   "name": "python",
   "nbconvert_exporter": "python",
   "pygments_lexer": "ipython3",
   "version": "3.7.11"
  }
 },
 "nbformat": 4,
 "nbformat_minor": 5
}
