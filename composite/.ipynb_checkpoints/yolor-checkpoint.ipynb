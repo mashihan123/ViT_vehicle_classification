{
 "cells": [
  {
   "cell_type": "code",
   "execution_count": 3,
   "id": "d4c6557f",
   "metadata": {},
   "outputs": [
    {
     "name": "stdout",
     "output_type": "stream",
     "text": [
      "Namespace(agnostic_nms=False, augment=False, cfg='yolor_data/yolor_p6.cfg', classes=None, conf_thres=0.25, device='0', img_size=320, iou_thres=0.5, names='yolor_data/data.names', output='inference/output', save_txt=False, source='inference/images', update=False, view_img=False, weights=['yolor_data/best.pt'])\n",
      "image 1/1 C:\\Users\\mashi\\Desktop\\composite\\inference\\images\\36803.jpg: 256x320 1 c9s, 5 wheels, Done. (0.042s)\n",
      "Results saved to inference\\output\n",
      "Done. (1.271s)\n"
     ]
    },
    {
     "name": "stderr",
     "output_type": "stream",
     "text": [
      "C:\\Users\\mashi\\anaconda3\\envs\\truck\\lib\\site-packages\\torch\\functional.py:445: UserWarning: torch.meshgrid: in an upcoming release, it will be required to pass the indexing argument. (Triggered internally at  ..\\aten\\src\\ATen\\native\\TensorShape.cpp:2157.)\n",
      "  return _VF.meshgrid(tensors, **kwargs)  # type: ignore[attr-defined]\n"
     ]
    }
   ],
   "source": [
    "!python detect.py --source inference/images --cfg yolor_data/yolor_p6.cfg --weights yolor_data/best.pt --names yolor_data/data.names --conf 0.25 --img-size 320 --device 0"
   ]
  },
  {
   "cell_type": "code",
   "execution_count": 1,
   "id": "95d7a362",
   "metadata": {},
   "outputs": [
    {
     "name": "stdout",
     "output_type": "stream",
     "text": [
      "1.10.2\n"
     ]
    }
   ],
   "source": [
    "import torch\n",
    "print(torch.__version__)"
   ]
  },
  {
   "cell_type": "code",
   "execution_count": null,
   "id": "11b9acd4",
   "metadata": {},
   "outputs": [],
   "source": []
  }
 ],
 "metadata": {
  "kernelspec": {
   "display_name": "Python 3 (ipykernel)",
   "language": "python",
   "name": "python3"
  },
  "language_info": {
   "codemirror_mode": {
    "name": "ipython",
    "version": 3
   },
   "file_extension": ".py",
   "mimetype": "text/x-python",
   "name": "python",
   "nbconvert_exporter": "python",
   "pygments_lexer": "ipython3",
   "version": "3.7.11"
  }
 },
 "nbformat": 4,
 "nbformat_minor": 5
}
